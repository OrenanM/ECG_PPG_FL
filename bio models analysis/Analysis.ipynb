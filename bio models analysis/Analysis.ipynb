{
 "cells": [
  {
   "cell_type": "code",
   "execution_count": 3,
   "metadata": {},
   "outputs": [],
   "source": [
    "from model import BioCNN, MultiStreamBioCNN\n",
    "import torch\n",
    "from thop import profile\n",
    "import pandas as pd"
   ]
  },
  {
   "cell_type": "code",
   "execution_count": 4,
   "metadata": {},
   "outputs": [],
   "source": [
    "# instance models\n",
    "model_bio = BioCNN()\n",
    "model_ecg_ppg = BioCNN(in_channels=2)\n",
    "model_multibio = MultiStreamBioCNN()"
   ]
  },
  {
   "cell_type": "code",
   "execution_count": 5,
   "metadata": {},
   "outputs": [],
   "source": [
    "# random input for convolutional layers\n",
    "random_input_bio = torch.rand(1, 1, 32, 32)\n",
    "random_input_multibio = torch.rand(1, 2, 32, 32)\n",
    "\n",
    "# random input for fully conected layers\n",
    "random_input_bio2 = torch.rand(1, 128)\n",
    "random_input_multibio2 = torch.rand(1, 256)"
   ]
  },
  {
   "cell_type": "code",
   "execution_count": 6,
   "metadata": {},
   "outputs": [
    {
     "name": "stdout",
     "output_type": "stream",
     "text": [
      "[INFO] Register count_convNd() for <class 'torch.nn.modules.conv.Conv2d'>.\n",
      "[INFO] Register count_normalization() for <class 'torch.nn.modules.batchnorm.BatchNorm2d'>.\n",
      "[INFO] Register zero_ops() for <class 'torch.nn.modules.activation.ReLU'>.\n",
      "[INFO] Register zero_ops() for <class 'torch.nn.modules.pooling.MaxPool2d'>.\n",
      "[INFO] Register zero_ops() for <class 'torch.nn.modules.container.Sequential'>.\n",
      "[INFO] Register count_linear() for <class 'torch.nn.modules.linear.Linear'>.\n",
      "[INFO] Register count_convNd() for <class 'torch.nn.modules.conv.Conv2d'>.\n",
      "[INFO] Register count_normalization() for <class 'torch.nn.modules.batchnorm.BatchNorm2d'>.\n",
      "[INFO] Register zero_ops() for <class 'torch.nn.modules.activation.ReLU'>.\n",
      "[INFO] Register zero_ops() for <class 'torch.nn.modules.pooling.MaxPool2d'>.\n",
      "[INFO] Register zero_ops() for <class 'torch.nn.modules.container.Sequential'>.\n",
      "[INFO] Register count_linear() for <class 'torch.nn.modules.linear.Linear'>.\n",
      "[INFO] Register count_convNd() for <class 'torch.nn.modules.conv.Conv2d'>.\n",
      "[INFO] Register count_normalization() for <class 'torch.nn.modules.batchnorm.BatchNorm2d'>.\n",
      "[INFO] Register zero_ops() for <class 'torch.nn.modules.activation.ReLU'>.\n",
      "[INFO] Register zero_ops() for <class 'torch.nn.modules.pooling.MaxPool2d'>.\n",
      "[INFO] Register zero_ops() for <class 'torch.nn.modules.container.Sequential'>.\n",
      "[INFO] Register count_linear() for <class 'torch.nn.modules.linear.Linear'>.\n"
     ]
    }
   ],
   "source": [
    "# calculate number flops and number total paramaters \n",
    "flops_bio, params_bio = profile(\n",
    "    model_bio, inputs=(random_input_bio,))\n",
    "\n",
    "flops_ecg_ppg, params_ecg_ppg = profile(\n",
    "    model_ecg_ppg, inputs=(random_input_multibio,))\n",
    "\n",
    "flops_multibio, params_multibio = profile(\n",
    "    model_multibio, inputs=(random_input_multibio,))"
   ]
  },
  {
   "cell_type": "code",
   "execution_count": 7,
   "metadata": {},
   "outputs": [
    {
     "name": "stdout",
     "output_type": "stream",
     "text": [
      "[INFO] Register count_linear() for <class 'torch.nn.modules.linear.Linear'>.\n",
      "[INFO] Register zero_ops() for <class 'torch.nn.modules.activation.ReLU'>.\n",
      "[INFO] Register zero_ops() for <class 'torch.nn.modules.container.Sequential'>.\n",
      "[INFO] Register count_linear() for <class 'torch.nn.modules.linear.Linear'>.\n",
      "[INFO] Register zero_ops() for <class 'torch.nn.modules.activation.ReLU'>.\n",
      "[INFO] Register zero_ops() for <class 'torch.nn.modules.container.Sequential'>.\n",
      "[INFO] Register count_linear() for <class 'torch.nn.modules.linear.Linear'>.\n",
      "[INFO] Register zero_ops() for <class 'torch.nn.modules.activation.ReLU'>.\n",
      "[INFO] Register zero_ops() for <class 'torch.nn.modules.container.Sequential'>.\n"
     ]
    }
   ],
   "source": [
    "# calculate number flops and number send paramaters \n",
    "_, param_bio_send = profile(\n",
    "    model_bio.fc, inputs=(random_input_bio2,))\n",
    "\n",
    "_, param_ecg_ppg_send = profile(\n",
    "    model_ecg_ppg.fc, inputs=(random_input_bio2,))\n",
    "\n",
    "_, param_multibio_send = profile(\n",
    "    model_multibio.fc, inputs=(random_input_multibio2,))"
   ]
  },
  {
   "cell_type": "code",
   "execution_count": 8,
   "metadata": {},
   "outputs": [],
   "source": [
    "data = {\n",
    "    'ECG': [flops_bio, params_bio],\n",
    "    'PPG': [flops_bio, params_bio],\n",
    "    'ECG_PPG': [flops_ecg_ppg, params_ecg_ppg],\n",
    "    'Fusion': [flops_multibio, params_multibio],\n",
    "    'ECG (Slipt)': [flops_bio, param_bio_send],\n",
    "    'PPG (Slipt)': [flops_bio, param_bio_send],\n",
    "    'ECG_PPG (Slipt)': [flops_ecg_ppg, param_ecg_ppg_send],\n",
    "    'Fusion (Slipt)': [flops_multibio, param_multibio_send]\n",
    "}"
   ]
  },
  {
   "cell_type": "code",
   "execution_count": 9,
   "metadata": {},
   "outputs": [],
   "source": [
    "df = pd.DataFrame.from_dict(data, orient=\"index\", columns=[\"FLOPs\", \"Send Parameters\"])\n",
    "\n",
    "# Convertendo para KB\n",
    "df['Send Size (KB)'] = df['Send Parameters'] / 2**10\n",
    "df.drop('Send Parameters', axis=1, inplace=True)\n",
    "\n",
    "# Convertendo para mega FLOPS\n",
    "df['Mega FLOPs'] = df['FLOPs']/1e6\n",
    "df.drop('FLOPs', axis=1, inplace=True)"
   ]
  },
  {
   "cell_type": "code",
   "execution_count": 23,
   "metadata": {},
   "outputs": [
    {
     "data": {
      "text/html": [
       "<div>\n",
       "<style scoped>\n",
       "    .dataframe tbody tr th:only-of-type {\n",
       "        vertical-align: middle;\n",
       "    }\n",
       "\n",
       "    .dataframe tbody tr th {\n",
       "        vertical-align: top;\n",
       "    }\n",
       "\n",
       "    .dataframe thead th {\n",
       "        text-align: right;\n",
       "    }\n",
       "</style>\n",
       "<table border=\"1\" class=\"dataframe\">\n",
       "  <thead>\n",
       "    <tr style=\"text-align: right;\">\n",
       "      <th></th>\n",
       "      <th>Send Size (KB)</th>\n",
       "      <th>Mega FLOPs</th>\n",
       "    </tr>\n",
       "  </thead>\n",
       "  <tbody>\n",
       "    <tr>\n",
       "      <th>ECG</th>\n",
       "      <td>187.473633</td>\n",
       "      <td>1.409536</td>\n",
       "    </tr>\n",
       "    <tr>\n",
       "      <th>PPG</th>\n",
       "      <td>187.473633</td>\n",
       "      <td>1.409536</td>\n",
       "    </tr>\n",
       "    <tr>\n",
       "      <th>ECG_PPG</th>\n",
       "      <td>187.543945</td>\n",
       "      <td>1.483264</td>\n",
       "    </tr>\n",
       "    <tr>\n",
       "      <th>Fusion</th>\n",
       "      <td>347.895508</td>\n",
       "      <td>2.791936</td>\n",
       "    </tr>\n",
       "    <tr>\n",
       "      <th>ECG (Slipt)</th>\n",
       "      <td>91.051758</td>\n",
       "      <td>1.409536</td>\n",
       "    </tr>\n",
       "    <tr>\n",
       "      <th>PPG (Slipt)</th>\n",
       "      <td>91.051758</td>\n",
       "      <td>1.409536</td>\n",
       "    </tr>\n",
       "    <tr>\n",
       "      <th>ECG_PPG (Slipt)</th>\n",
       "      <td>91.051758</td>\n",
       "      <td>1.483264</td>\n",
       "    </tr>\n",
       "    <tr>\n",
       "      <th>Fusion (Slipt)</th>\n",
       "      <td>155.051758</td>\n",
       "      <td>2.791936</td>\n",
       "    </tr>\n",
       "  </tbody>\n",
       "</table>\n",
       "</div>"
      ],
      "text/plain": [
       "                 Send Size (KB)  Mega FLOPs\n",
       "ECG                  187.473633    1.409536\n",
       "PPG                  187.473633    1.409536\n",
       "ECG_PPG              187.543945    1.483264\n",
       "Fusion               347.895508    2.791936\n",
       "ECG (Slipt)           91.051758    1.409536\n",
       "PPG (Slipt)           91.051758    1.409536\n",
       "ECG_PPG (Slipt)       91.051758    1.483264\n",
       "Fusion (Slipt)       155.051758    2.791936"
      ]
     },
     "metadata": {},
     "output_type": "display_data"
    }
   ],
   "source": [
    "df.to_csv('flops and size.csv')\n",
    "display(df)"
   ]
  },
  {
   "cell_type": "code",
   "execution_count": 61,
   "metadata": {},
   "outputs": [],
   "source": [
    "send_ecg = df[['Send Size (KB)']].loc['ECG'].values[0]\n",
    "send_ppg = df[['Send Size (KB)']].loc['PPG'].values[0]\n",
    "send_ecg_ppg = df[['Send Size (KB)']].loc['ECG_PPG'].values[0]\n",
    "send_fusion = df[['Send Size (KB)']].loc['Fusion (Slipt)'].values[0]"
   ]
  },
  {
   "cell_type": "code",
   "execution_count": 66,
   "metadata": {},
   "outputs": [
    {
     "data": {
      "image/png": "[encoded data removed]",
      "text/plain": [
       "<Figure size 800x600 with 1 Axes>"
      ]
     },
     "metadata": {},
     "output_type": "display_data"
    }
   ],
   "source": [
    "import matplotlib.pyplot as plt\n",
    "import seaborn as sns\n",
    "\n",
    "# Dados para o gráfico\n",
    "labels = ['ECG', 'PPG', 'ECG_PPG', 'Fusion']\n",
    "send_sizes = [send_ecg, send_ppg, send_ecg_ppg, send_fusion]  # Calculando a média\n",
    "\n",
    "# Estilizando o gráfico com seaborn\n",
    "sns.set(style=\"whitegrid\")  # Estilo de fundo branco com grid\n",
    "\n",
    "# Criando o gráfico de barras\n",
    "plt.figure(figsize=(8,6))\n",
    "\n",
    "# Adicionando diferentes estilos para cada barra\n",
    "bars = plt.bar(labels, send_sizes, color=['blue', 'green', 'red', 'purple'], edgecolor='black', linewidth=2)\n",
    "\n",
    "# Estilizando cada barra individualmente\n",
    "for i, bar in enumerate(bars):\n",
    "    bar.set_linewidth(1)  # Largura da borda\n",
    "    bar.set_hatch('//')  # Padrão de hachura para todas as barras\n",
    "\n",
    "# Adicionando título e rótulos\n",
    "plt.ylabel('Transmitted Model Size (KB)', fontsize=15)\n",
    "plt.xticks(fontsize=15)\n",
    "plt.yticks(fontsize=15)\n",
    "\n",
    "# Exibindo o gráfico\n",
    "plt.grid(linestyle='--', alpha=0.5)\n",
    "plt.savefig('send size.pdf', bbox_inches='tight')\n",
    "plt.show()\n"
   ]
  }
 ],
 "metadata": {
  "kernelspec": {
   "display_name": "pfllib",
   "language": "python",
   "name": "python3"
  },
  "language_info": {
   "codemirror_mode": {
    "name": "ipython",
    "version": 3
   },
   "file_extension": ".py",
   "mimetype": "text/x-python",
   "name": "python",
   "nbconvert_exporter": "python",
   "pygments_lexer": "ipython3",
   "version": "3.11.11"
  }
 },
 "nbformat": 4,
 "nbformat_minor": 2
}
