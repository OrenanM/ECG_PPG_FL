{
 "cells": [
  {
   "cell_type": "code",
   "execution_count": 1,
   "metadata": {},
   "outputs": [],
   "source": [
    "from model import BioCNN, MultiStreamBioCNN\n",
    "import torch\n",
    "from thop import profile\n",
    "import pandas as pd"
   ]
  },
  {
   "cell_type": "code",
   "execution_count": 2,
   "metadata": {},
   "outputs": [],
   "source": [
    "# instance models\n",
    "model_bio = BioCNN()\n",
    "model_ecg_ppg = BioCNN(in_channels=2)\n",
    "model_multibio = MultiStreamBioCNN()"
   ]
  },
  {
   "cell_type": "code",
   "execution_count": 3,
   "metadata": {},
   "outputs": [],
   "source": [
    "# random input for convolutional layers\n",
    "random_input_bio = torch.rand(1, 1, 32, 32)\n",
    "random_input_multibio = torch.rand(1, 2, 32, 32)\n",
    "\n",
    "# random input for fully conected layers\n",
    "random_input_bio2 = torch.rand(1, 128)\n",
    "random_input_multibio2 = torch.rand(1, 256)"
   ]
  },
  {
   "cell_type": "code",
   "execution_count": 4,
   "metadata": {},
   "outputs": [
    {
     "name": "stdout",
     "output_type": "stream",
     "text": [
      "[INFO] Register count_convNd() for <class 'torch.nn.modules.conv.Conv2d'>.\n",
      "[INFO] Register count_normalization() for <class 'torch.nn.modules.batchnorm.BatchNorm2d'>.\n",
      "[INFO] Register zero_ops() for <class 'torch.nn.modules.activation.ReLU'>.\n",
      "[INFO] Register zero_ops() for <class 'torch.nn.modules.pooling.MaxPool2d'>.\n",
      "[INFO] Register zero_ops() for <class 'torch.nn.modules.container.Sequential'>.\n",
      "[INFO] Register count_linear() for <class 'torch.nn.modules.linear.Linear'>.\n",
      "[INFO] Register count_convNd() for <class 'torch.nn.modules.conv.Conv2d'>.\n",
      "[INFO] Register count_normalization() for <class 'torch.nn.modules.batchnorm.BatchNorm2d'>.\n",
      "[INFO] Register zero_ops() for <class 'torch.nn.modules.activation.ReLU'>.\n",
      "[INFO] Register zero_ops() for <class 'torch.nn.modules.pooling.MaxPool2d'>.\n",
      "[INFO] Register zero_ops() for <class 'torch.nn.modules.container.Sequential'>.\n",
      "[INFO] Register count_linear() for <class 'torch.nn.modules.linear.Linear'>.\n",
      "[INFO] Register count_convNd() for <class 'torch.nn.modules.conv.Conv2d'>.\n",
      "[INFO] Register count_normalization() for <class 'torch.nn.modules.batchnorm.BatchNorm2d'>.\n",
      "[INFO] Register zero_ops() for <class 'torch.nn.modules.activation.ReLU'>.\n",
      "[INFO] Register zero_ops() for <class 'torch.nn.modules.pooling.MaxPool2d'>.\n",
      "[INFO] Register zero_ops() for <class 'torch.nn.modules.container.Sequential'>.\n",
      "[INFO] Register count_linear() for <class 'torch.nn.modules.linear.Linear'>.\n"
     ]
    }
   ],
   "source": [
    "# calculate number flops and number total paramaters \n",
    "flops_bio, params_bio = profile(\n",
    "    model_bio, inputs=(random_input_bio,))\n",
    "\n",
    "flops_ecg_ppg, params_ecg_ppg = profile(\n",
    "    model_ecg_ppg, inputs=(random_input_multibio,))\n",
    "\n",
    "flops_multibio, params_multibio = profile(\n",
    "    model_multibio, inputs=(random_input_multibio,))"
   ]
  },
  {
   "cell_type": "code",
   "execution_count": 5,
   "metadata": {},
   "outputs": [
    {
     "name": "stdout",
     "output_type": "stream",
     "text": [
      "[INFO] Register count_linear() for <class 'torch.nn.modules.linear.Linear'>.\n",
      "[INFO] Register zero_ops() for <class 'torch.nn.modules.activation.ReLU'>.\n",
      "[INFO] Register zero_ops() for <class 'torch.nn.modules.container.Sequential'>.\n",
      "[INFO] Register count_linear() for <class 'torch.nn.modules.linear.Linear'>.\n",
      "[INFO] Register zero_ops() for <class 'torch.nn.modules.activation.ReLU'>.\n",
      "[INFO] Register zero_ops() for <class 'torch.nn.modules.container.Sequential'>.\n",
      "[INFO] Register count_linear() for <class 'torch.nn.modules.linear.Linear'>.\n",
      "[INFO] Register zero_ops() for <class 'torch.nn.modules.activation.ReLU'>.\n",
      "[INFO] Register zero_ops() for <class 'torch.nn.modules.container.Sequential'>.\n"
     ]
    }
   ],
   "source": [
    "# calculate number flops and number send paramaters \n",
    "_, param_bio_send = profile(\n",
    "    model_bio.fc, inputs=(random_input_bio2,))\n",
    "\n",
    "_, param_ecg_ppg_send = profile(\n",
    "    model_ecg_ppg.fc, inputs=(random_input_bio2,))\n",
    "\n",
    "_, param_multibio_send = profile(\n",
    "    model_multibio.fc, inputs=(random_input_multibio2,))"
   ]
  },
  {
   "cell_type": "code",
   "execution_count": 6,
   "metadata": {},
   "outputs": [],
   "source": [
    "data = {\n",
    "    'ECG': [flops_bio, params_bio],\n",
    "    'PPG': [flops_bio, params_bio],\n",
    "    'ECG_PPG': [flops_ecg_ppg, params_ecg_ppg],\n",
    "    'Fusion': [flops_multibio, params_multibio],\n",
    "    'ECG (Slipt)': [flops_bio, param_bio_send],\n",
    "    'PPG (Slipt)': [flops_bio, param_bio_send],\n",
    "    'ECG_PPG (Slipt)': [flops_ecg_ppg, param_ecg_ppg_send],\n",
    "    'Fusion (Slipt)': [flops_multibio, param_multibio_send]\n",
    "}"
   ]
  },
  {
   "cell_type": "code",
   "execution_count": 7,
   "metadata": {},
   "outputs": [],
   "source": [
    "df = pd.DataFrame.from_dict(data, orient=\"index\", columns=[\"FLOPs\", \"Send Parameters\"])\n",
    "\n",
    "# Convertendo para KB\n",
    "df['Send Size (KB)'] = df['Send Parameters'] / 2**10\n",
    "df.drop('Send Parameters', axis=1, inplace=True)\n",
    "\n",
    "# Convertendo para mega FLOPS\n",
    "df['Mega FLOPs'] = df['FLOPs']/1e6\n",
    "df.drop('FLOPs', axis=1, inplace=True)"
   ]
  },
  {
   "cell_type": "code",
   "execution_count": 8,
   "metadata": {},
   "outputs": [],
   "source": [
    "df.to_csv('flops and size.csv')"
   ]
  }
 ],
 "metadata": {
  "kernelspec": {
   "display_name": "fl",
   "language": "python",
   "name": "python3"
  },
  "language_info": {
   "codemirror_mode": {
    "name": "ipython",
    "version": 3
   },
   "file_extension": ".py",
   "mimetype": "text/x-python",
   "name": "python",
   "nbconvert_exporter": "python",
   "pygments_lexer": "ipython3",
   "version": "3.11.5"
  }
 },
 "nbformat": 4,
 "nbformat_minor": 2
}
